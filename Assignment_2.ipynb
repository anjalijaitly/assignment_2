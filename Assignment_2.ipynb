{
 "cells": [
  {
   "cell_type": "markdown",
   "id": "e21017f3",
   "metadata": {},
   "source": [
    "Q1. What are the two values of the Boolean data type? How do you write them?\n",
    "\n",
    "Two values of Boolean data type are: True and False.\n",
    "\n",
    "Written as True and False, should have the first alphabet in upper case.\n",
    "\n",
    "Q2. What are the three different types of Boolean operators?\n",
    "\n",
    "The three boolean operators are:\n",
    "\n",
    "and\n",
    "or \n",
    "not\n",
    "\n",
    "Q3. Make a list of each Boolean operator's truth table (i.e. every possible combination of Boolean values for the operator and what it evaluate).\n",
    "\n",
    "A      B     A or B     A and B    not A    \n",
    "True  True    True        True      False\n",
    "True  False   True        False     False\n",
    "False True    True        False     True\n",
    "False False   False       False     True\n",
    "  \n",
    "Q4. What are the values of the following expressions?\n",
    "\n",
    "(5>4) and (3==5)                 : False\n",
    "not(5>4)                         : True\n",
    "not(5>4) or (3==5)               : True\n",
    "(True and True) and (True==False): False\n",
    "(not False) or (not True)        : True\n",
    "\n",
    "Q5. What are the six comparison operators?\n",
    "\n",
    "==\n",
    "!=\n",
    "<\n",
    ">\n",
    "<=\n",
    ">=\n",
    "\n",
    "Q6.How do you tell the difference between the equal to and assignment operators?Describe a condition when you would use one.\n",
    "\n",
    "(=) operator is known as assignment operator and (==) is known as equal to comparison operator.\n",
    "\n",
    "Assignment operator(=) is used to assign a value to the variable.\n",
    "\n",
    "e.g. x=10\n",
    "\n",
    "Comparison operator(==) are used compare two values.\n",
    "\n",
    "e.g. if a==b:\n",
    "\n",
    "Q7. Identify the three blocks in this code:\n"
   ]
  },
  {
   "cell_type": "code",
   "execution_count": 1,
   "id": "37d95d7e",
   "metadata": {},
   "outputs": [
    {
     "name": "stdout",
     "output_type": "stream",
     "text": [
      "ham\n",
      "spam\n",
      "spam\n"
     ]
    }
   ],
   "source": [
    "spam = 0\n",
    "if spam == 10:\n",
    "    print('eggs') #block 1\n",
    "if spam >5:\n",
    "    print('bacon') #block 2\n",
    "else:\n",
    "    print('ham') #block 3\n",
    "    print('spam')\n",
    "    print('spam')"
   ]
  },
  {
   "cell_type": "code",
   "execution_count": 2,
   "id": "1c9d8202",
   "metadata": {},
   "outputs": [
    {
     "name": "stdout",
     "output_type": "stream",
     "text": [
      "Greetings!\n"
     ]
    }
   ],
   "source": [
    "#Q8. Write a code that prints Hello if 1 is stored in spam, prints Howdy if 2 is stored in span, and prints Greetings if anything else is stored in spam.\n",
    "\n",
    "spam=0\n",
    "if spam==1:\n",
    "    print('Hello')\n",
    "if spam==2:\n",
    "    print('Howdy')\n",
    "else:\n",
    "    print('Greetings!')"
   ]
  },
  {
   "cell_type": "markdown",
   "id": "16505e16",
   "metadata": {},
   "source": [
    "Q9. If your programme is stuck in an endless loop, what keys you'll press?\n",
    "\n",
    "Press Crt+C keys on the keyboard.\n",
    "\n",
    "\n"
   ]
  },
  {
   "cell_type": "markdown",
   "id": "c49a7e7b",
   "metadata": {},
   "source": [
    "Q10 How can you tell the differnce between break and continue?\n",
    "\n",
    "Break: Break is used to terminate the enclosing loop like while, for, etc., where it is declared. It resumes control over the program until the end of the loop and also helps with the flow of control outside the loop.\n",
    "\n",
    "Continue: Continue helps to skip the remaining part of the loop. It continues to execute the next iteration and causes early execution of the next iteration of the enclosing loop.\n",
    "\n",
    "e.g.\n"
   ]
  },
  {
   "cell_type": "code",
   "execution_count": 3,
   "id": "6c213747",
   "metadata": {},
   "outputs": [
    {
     "name": "stdout",
     "output_type": "stream",
     "text": [
      "a\n",
      "n\n"
     ]
    }
   ],
   "source": [
    "for i in \"anjali\":\n",
    "    if i=='j':\n",
    "        break\n",
    "    print(i)"
   ]
  },
  {
   "cell_type": "code",
   "execution_count": 4,
   "id": "637e9676",
   "metadata": {},
   "outputs": [
    {
     "name": "stdout",
     "output_type": "stream",
     "text": [
      "a\n",
      "n\n",
      "a\n",
      "l\n",
      "i\n"
     ]
    }
   ],
   "source": [
    "for i in \"anjali\":\n",
    "    if i=='j':\n",
    "        continue\n",
    "    print(i)"
   ]
  },
  {
   "cell_type": "markdown",
   "id": "b3947416",
   "metadata": {},
   "source": [
    "Q11 In a for loop, what is the difference between rang(10), range(0,10) and range(0,10,1)?\n",
    "\n",
    "They are all same. All will give 10 numbers from 0 to 9.\n",
    "\n"
   ]
  },
  {
   "cell_type": "code",
   "execution_count": 5,
   "id": "a669c3ec",
   "metadata": {},
   "outputs": [
    {
     "data": {
      "text/plain": [
       "range(0, 10)"
      ]
     },
     "execution_count": 5,
     "metadata": {},
     "output_type": "execute_result"
    }
   ],
   "source": [
    "range(10)"
   ]
  },
  {
   "cell_type": "code",
   "execution_count": 6,
   "id": "40935ee8",
   "metadata": {},
   "outputs": [
    {
     "data": {
      "text/plain": [
       "range(0, 10)"
      ]
     },
     "execution_count": 6,
     "metadata": {},
     "output_type": "execute_result"
    }
   ],
   "source": [
    "range(0,10)"
   ]
  },
  {
   "cell_type": "code",
   "execution_count": 7,
   "id": "16152aba",
   "metadata": {},
   "outputs": [
    {
     "data": {
      "text/plain": [
       "range(0, 10)"
      ]
     },
     "execution_count": 7,
     "metadata": {},
     "output_type": "execute_result"
    }
   ],
   "source": [
    "range(0,10,1)"
   ]
  },
  {
   "cell_type": "code",
   "execution_count": 4,
   "id": "1d90a882",
   "metadata": {},
   "outputs": [
    {
     "name": "stdout",
     "output_type": "stream",
     "text": [
      "1\n",
      "2\n",
      "3\n",
      "4\n",
      "5\n",
      "6\n",
      "7\n",
      "8\n",
      "9\n",
      "10\n",
      "1\n",
      "2\n",
      "3\n",
      "4\n",
      "5\n",
      "6\n",
      "7\n",
      "8\n",
      "9\n",
      "10\n"
     ]
    }
   ],
   "source": [
    "#Q12 Write a short program that prints the numbers 1 to 10 using a for loop. Then write an equivalentprogram that prints the numbers 1 to 10 using a while loop.\n",
    "#for loop\n",
    "for i in range(1,11):\n",
    "    print(i)\n",
    "\n",
    "#while loop\n",
    "a=1\n",
    "while a<=10:\n",
    "    print(a)\n",
    "    a=a+1"
   ]
  },
  {
   "cell_type": "markdown",
   "id": "d4abf7a1",
   "metadata": {},
   "source": [
    "Q13.If you had a function named bacon() inside a module named spam, how would you call it after importing spam?\n",
    "\n",
    "By adding a dot and bacon() after spam\n",
    "spam.bacon()\n",
    "\n"
   ]
  }
 ],
 "metadata": {
  "kernelspec": {
   "display_name": "Python 3 (ipykernel)",
   "language": "python",
   "name": "python3"
  },
  "language_info": {
   "codemirror_mode": {
    "name": "ipython",
    "version": 3
   },
   "file_extension": ".py",
   "mimetype": "text/x-python",
   "name": "python",
   "nbconvert_exporter": "python",
   "pygments_lexer": "ipython3",
   "version": "3.9.12"
  }
 },
 "nbformat": 4,
 "nbformat_minor": 5
}
